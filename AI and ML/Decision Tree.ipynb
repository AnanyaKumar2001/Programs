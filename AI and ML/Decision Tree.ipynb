{
 "cells": [
  {
   "cell_type": "code",
   "execution_count": 75,
   "id": "05539c91",
   "metadata": {},
   "outputs": [],
   "source": [
    "training_data = [['Green', 3, 'Mango'],['Yellow',3,'Mango'],['Red',1,'Grape'],['Red',1,'Grape'],['Yellow',3,'Lemon']]"
   ]
  },
  {
   "cell_type": "code",
   "execution_count": 76,
   "id": "84ff47ea",
   "metadata": {},
   "outputs": [],
   "source": [
    "#column labels\n",
    "\n",
    "header = [\"color\",\"diameter\",\"label\"]"
   ]
  },
  {
   "cell_type": "code",
   "execution_count": 77,
   "id": "315df992",
   "metadata": {},
   "outputs": [],
   "source": [
    "def unique_vals(rows,col):\n",
    "    return set([row[col] for row in rows])"
   ]
  },
  {
   "cell_type": "code",
   "execution_count": 78,
   "id": "69870441",
   "metadata": {},
   "outputs": [],
   "source": [
    "def class_counts(rows):\n",
    "    counts = {}\n",
    "    for row in rows:\n",
    "        label = row[-1]\n",
    "        if label not in counts:\n",
    "            counts[label] = 0\n",
    "        counts[label] += 1\n",
    "    return counts"
   ]
  },
  {
   "cell_type": "code",
   "execution_count": 79,
   "id": "4c9b6562",
   "metadata": {},
   "outputs": [],
   "source": [
    "def is_numeric(value):\n",
    "    return isinstance(value,int) or isinstance(value,float)"
   ]
  },
  {
   "cell_type": "code",
   "execution_count": 80,
   "id": "52e6e0e3",
   "metadata": {},
   "outputs": [],
   "source": [
    "class Question:\n",
    "    def __init__(self,column,value):\n",
    "        self.column = column\n",
    "        self.value = value\n",
    "    def match(self,example):\n",
    "        val = example[self.column]\n",
    "        if is_numeric(val):\n",
    "            return val >= self.value\n",
    "        else:\n",
    "            return val == self.value\n",
    "    def __repr__(self):\n",
    "        condition = \"==\"\n",
    "        if is_numeric(self.value):\n",
    "            condition = \">=\"\n",
    "        return \"Is %s %s %s?\" % (header[self.column], condition, str(self.value))\n",
    "    def partition(rows,question):\n",
    "        true_rows, false_rows = [], []\n",
    "        for row in rows:\n",
    "            if question.match(row):\n",
    "                true_rows.append(row)\n",
    "            else:\n",
    "                false_rows.append(row)\n",
    "        return true_rows, false_rows\n",
    "    def gini(rows):\n",
    "        counts = class_counts(rows)\n",
    "        impurity = 1\n",
    "        for lbl in counts:\n",
    "            prob_of_lbl = counts[lbl]/float(len(rows))\n",
    "            impurity -= prob_of_lbl ** 2\n",
    "        return impurity\n",
    "    def info_gain(left, right, current_uncertainity):\n",
    "        p = float(len(left))/(len(left)+len(right))\n",
    "        return current_uncertainity - p * gini(left) - (1-p) * gini(right)\n",
    "    def find_best_split(rows):\n",
    "        best_gain = 0\n",
    "        best_question = None\n",
    "        current_uncertainity = gini(rows)\n",
    "        n_features = len(rows[0]) - 1\n",
    "        for col in range(n_features):\n",
    "            values = set([row[col] for row in rows])\n",
    "            for val in values:\n",
    "                question = Question(col,val)\n",
    "                true_rows, false_rows = partition(rows, question)\n",
    "                if len(true_rows) == 0 or len(false_rows) == 0:\n",
    "                    continue\n",
    "                gain = info_gain(true_rows, false_rows, current_uncertainity)\n",
    "                if gain >= best_gain:\n",
    "                    best_gain, best_question = gain, question\n",
    "        return best_gain, best_question"
   ]
  },
  {
   "cell_type": "code",
   "execution_count": 81,
   "id": "1e4720e1",
   "metadata": {},
   "outputs": [],
   "source": [
    "class Leaf:\n",
    "    def __init__(self,rows):\n",
    "        self.predictions = class_counts(rows)"
   ]
  },
  {
   "cell_type": "code",
   "execution_count": 82,
   "id": "0fae140c",
   "metadata": {},
   "outputs": [],
   "source": [
    "class Decision_Node:\n",
    "    def __init__(self, question, true_branch, false_branch):\n",
    "        self.question = question\n",
    "        self.true_branch = true_branch\n",
    "        self.false_branch = false_branch"
   ]
  },
  {
   "cell_type": "code",
   "execution_count": 83,
   "id": "6ef33616",
   "metadata": {},
   "outputs": [],
   "source": [
    "def build_tree(rows):\n",
    "    gain, question = find_best_split(rows)\n",
    "    if gain==0:\n",
    "        return Leaf(rows)\n",
    "    true_rows, false_rows = partition(rows, question)\n",
    "    true_branch = build_tree(true_rows)\n",
    "    false_branch = build_tree(false_rows)\n",
    "    return Decision_Node(question, true_branch, false_branch)"
   ]
  },
  {
   "cell_type": "code",
   "execution_count": 84,
   "id": "66cd71a1",
   "metadata": {},
   "outputs": [],
   "source": [
    "def print_tree(node, spacing = \"\"):\n",
    "    if isinstance(node,Leaf):\n",
    "        print(spacing + \"Predict\", node.predictions)\n",
    "        return\n",
    "    print(spacing + '-->True:')\n",
    "    print_tree(node.true_branch,spacing + \" \")\n",
    "    print(spacing + '-->False:')\n",
    "    print_tree(node.false_branch, spacing + \" \")"
   ]
  },
  {
   "cell_type": "code",
   "execution_count": 85,
   "id": "be363958",
   "metadata": {},
   "outputs": [],
   "source": [
    "def classify(row, node):\n",
    "    if isinstance(node, Leaf):\n",
    "        return node.predictions\n",
    "    if node.question.match(row):\n",
    "        return classify(row, node.true_branch)\n",
    "    else:\n",
    "        return classify(row, node.false_branch)"
   ]
  },
  {
   "cell_type": "code",
   "execution_count": 86,
   "id": "e7c363a8",
   "metadata": {},
   "outputs": [],
   "source": [
    "def print_leaf(counts):\n",
    "    total = sum(counts.values()) * 1.0\n",
    "    probs = {}\n",
    "    for lbl in counts.keys():\n",
    "        probs[lbl] = str(int(counts[lbl]/total * 100)) + \"%\"\n",
    "    return probs"
   ]
  },
  {
   "cell_type": "code",
   "execution_count": 87,
   "id": "ec3c3e69",
   "metadata": {},
   "outputs": [
    {
     "name": "stdout",
     "output_type": "stream",
     "text": [
      "-->True:\n",
      " -->True:\n",
      "  Predict {'Mango': 1, 'Lemon': 1}\n",
      " -->False:\n",
      "  Predict {'Mango': 1}\n",
      "-->False:\n",
      " Predict {'Grape': 2}\n",
      "Actual : Mango. predicted : {'Mango': '100%'}\n",
      "Actual : Mango. predicted : {'Mango': '50%', 'Lemon': '50%'}\n",
      "Actual : Grape. predicted : {'Grape': '100%'}\n",
      "Actual : Lemon. predicted : {'Mango': '50%', 'Lemon': '50%'}\n"
     ]
    }
   ],
   "source": [
    "if __name__ == \"__main__\":\n",
    "    my_tree = build_tree(training_data)\n",
    "    print_tree(my_tree)\n",
    "    \n",
    "    testing_data = [['Green', 3, 'Mango'], ['Yellow', 4, 'Mango'], ['Red', 2, 'Grape'], ['Yellow', 3, 'Lemon']]\n",
    "    for row in testing_data:\n",
    "        print(\"Actual : %s. predicted : %s\" % (row[-1], print_leaf(classify(row, my_tree))))"
   ]
  },
  {
   "cell_type": "code",
   "execution_count": null,
   "id": "498c80ae",
   "metadata": {},
   "outputs": [],
   "source": []
  },
  {
   "cell_type": "code",
   "execution_count": 26,
   "id": "6bd0c29d",
   "metadata": {},
   "outputs": [],
   "source": []
  }
 ],
 "metadata": {
  "kernelspec": {
   "display_name": "Python 3 (ipykernel)",
   "language": "python",
   "name": "python3"
  },
  "language_info": {
   "codemirror_mode": {
    "name": "ipython",
    "version": 3
   },
   "file_extension": ".py",
   "mimetype": "text/x-python",
   "name": "python",
   "nbconvert_exporter": "python",
   "pygments_lexer": "ipython3",
   "version": "3.9.12"
  }
 },
 "nbformat": 4,
 "nbformat_minor": 5
}
