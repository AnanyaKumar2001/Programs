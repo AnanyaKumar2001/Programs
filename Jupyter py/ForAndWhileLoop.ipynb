{
 "cells": [
  {
   "cell_type": "markdown",
   "metadata": {
    "id": "3TVdzwY0ybD6"
   },
   "source": [
    "## Loops"
   ]
  },
  {
   "cell_type": "markdown",
   "metadata": {
    "id": "kptF43PjybED"
   },
   "source": [
    "#### For Loop"
   ]
  },
  {
   "cell_type": "code",
   "execution_count": 1,
   "metadata": {
    "id": "_hFhhW-3ybEE"
   },
   "outputs": [],
   "source": [
    "colours = [\"Violet\",\"Indigo\",\"Blue\",\"Green\",\"Yellow\",\"Orange\",\"Red\"]"
   ]
  },
  {
   "cell_type": "code",
   "execution_count": 2,
   "metadata": {
    "colab": {
     "base_uri": "https://localhost:8080/"
    },
    "executionInfo": {
     "elapsed": 1540,
     "status": "ok",
     "timestamp": 1630389612917,
     "user": {
      "displayName": "ANANYA KUMAR",
      "photoUrl": "https://lh3.googleusercontent.com/a-/AOh14Gi2232rO3cnrc8uJkCqoLZxX-zoes3gB_cnoO_pDA=s64",
      "userId": "11752855501033589240"
     },
     "user_tz": -330
    },
    "id": "GrpO1HfTybEG",
    "outputId": "a747a58c-5b66-4816-c763-1a5f9bba32c5"
   },
   "outputs": [
    {
     "name": "stdout",
     "output_type": "stream",
     "text": [
      "Violet\n",
      "Indigo\n",
      "Blue\n",
      "Green\n",
      "Yellow\n",
      "Orange\n",
      "Red\n"
     ]
    }
   ],
   "source": [
    "for colour in colours:\n",
    "    print(colour)"
   ]
  },
  {
   "cell_type": "markdown",
   "metadata": {
    "id": "jEtGH8AmybEH"
   },
   "source": [
    "#### For Loop with range"
   ]
  },
  {
   "cell_type": "code",
   "execution_count": 3,
   "metadata": {
    "colab": {
     "base_uri": "https://localhost:8080/"
    },
    "executionInfo": {
     "elapsed": 13,
     "status": "ok",
     "timestamp": 1630389621335,
     "user": {
      "displayName": "ANANYA KUMAR",
      "photoUrl": "https://lh3.googleusercontent.com/a-/AOh14Gi2232rO3cnrc8uJkCqoLZxX-zoes3gB_cnoO_pDA=s64",
      "userId": "11752855501033589240"
     },
     "user_tz": -330
    },
    "id": "2W4fKrV0ybEI",
    "outputId": "b4664d2f-174f-492c-aef4-a3d5b7b1cfdc"
   },
   "outputs": [
    {
     "name": "stdout",
     "output_type": "stream",
     "text": [
      "0\n",
      "1\n",
      "2\n",
      "3\n",
      "4\n",
      "5\n",
      "6\n",
      "7\n",
      "8\n",
      "9\n"
     ]
    }
   ],
   "source": [
    "for i in range(0,10):\n",
    "    print(i)"
   ]
  },
  {
   "cell_type": "markdown",
   "metadata": {
    "id": "0d_UWwY6ybEI"
   },
   "source": [
    "#### While Loop"
   ]
  },
  {
   "cell_type": "code",
   "execution_count": 4,
   "metadata": {
    "colab": {
     "base_uri": "https://localhost:8080/"
    },
    "executionInfo": {
     "elapsed": 603,
     "status": "ok",
     "timestamp": 1630389628261,
     "user": {
      "displayName": "ANANYA KUMAR",
      "photoUrl": "https://lh3.googleusercontent.com/a-/AOh14Gi2232rO3cnrc8uJkCqoLZxX-zoes3gB_cnoO_pDA=s64",
      "userId": "11752855501033589240"
     },
     "user_tz": -330
    },
    "id": "oodxsFFgybEJ",
    "outputId": "21755cc7-58ef-43a4-ba94-9022895de377"
   },
   "outputs": [
    {
     "name": "stdout",
     "output_type": "stream",
     "text": [
      "10\n",
      "9\n",
      "8\n",
      "7\n",
      "6\n",
      "5\n",
      "4\n",
      "3\n",
      "2\n",
      "1\n"
     ]
    }
   ],
   "source": [
    "i = 10\n",
    "while(i>0):\n",
    "    print(i)\n",
    "    i-=1"
   ]
  },
  {
   "cell_type": "markdown",
   "metadata": {
    "id": "S2jWPszvybEJ"
   },
   "source": [
    "#### Run the loop as long as the user wants to using `break`"
   ]
  },
  {
   "cell_type": "code",
   "execution_count": 6,
   "metadata": {
    "colab": {
     "base_uri": "https://localhost:8080/"
    },
    "executionInfo": {
     "elapsed": 13766,
     "status": "ok",
     "timestamp": 1630389648101,
     "user": {
      "displayName": "ANANYA KUMAR",
      "photoUrl": "https://lh3.googleusercontent.com/a-/AOh14Gi2232rO3cnrc8uJkCqoLZxX-zoes3gB_cnoO_pDA=s64",
      "userId": "11752855501033589240"
     },
     "user_tz": -330
    },
    "id": "M5AqEDYVybEK",
    "outputId": "d3835649-1716-4f4a-a326-318dac02cfa0"
   },
   "outputs": [
    {
     "name": "stdout",
     "output_type": "stream",
     "text": [
      "Hello\n",
      "Do you want to continue Y/N? Y\n",
      "Hello\n",
      "Do you want to continue Y/N? Y\n",
      "Hello\n",
      "Do you want to continue Y/N? N\n"
     ]
    }
   ],
   "source": [
    "while(True): #Infinite loop\n",
    "    print(\"Hello\")\n",
    "    shouldWeContinue = input(\"Do you want to continue Y/N? \")\n",
    "    if(shouldWeContinue == \"N\"):\n",
    "        break\n",
    "        "
   ]
  },
  {
   "cell_type": "markdown",
   "metadata": {
    "id": "nfJlRQ8UybEK"
   },
   "source": [
    "#### Print all numbers between 1 to 100 except the ones which are divisible by 9 "
   ]
  },
  {
   "cell_type": "code",
   "execution_count": 7,
   "metadata": {
    "colab": {
     "base_uri": "https://localhost:8080/"
    },
    "executionInfo": {
     "elapsed": 883,
     "status": "ok",
     "timestamp": 1630389653861,
     "user": {
      "displayName": "ANANYA KUMAR",
      "photoUrl": "https://lh3.googleusercontent.com/a-/AOh14Gi2232rO3cnrc8uJkCqoLZxX-zoes3gB_cnoO_pDA=s64",
      "userId": "11752855501033589240"
     },
     "user_tz": -330
    },
    "id": "bSMQUN49ybEK",
    "outputId": "d1f36bd0-630f-4c58-818b-14c093494a9c"
   },
   "outputs": [
    {
     "name": "stdout",
     "output_type": "stream",
     "text": [
      "1\n",
      "2\n",
      "3\n",
      "4\n",
      "5\n",
      "6\n",
      "7\n",
      "8\n",
      "10\n",
      "11\n",
      "12\n",
      "13\n",
      "14\n",
      "15\n",
      "16\n",
      "17\n",
      "19\n",
      "20\n",
      "21\n",
      "22\n",
      "23\n",
      "24\n",
      "25\n",
      "26\n",
      "28\n",
      "29\n",
      "30\n",
      "31\n",
      "32\n",
      "33\n",
      "34\n",
      "35\n",
      "37\n",
      "38\n",
      "39\n",
      "40\n",
      "41\n",
      "42\n",
      "43\n",
      "44\n",
      "46\n",
      "47\n",
      "48\n",
      "49\n",
      "50\n",
      "51\n",
      "52\n",
      "53\n",
      "55\n",
      "56\n",
      "57\n",
      "58\n",
      "59\n",
      "60\n",
      "61\n",
      "62\n",
      "64\n",
      "65\n",
      "66\n",
      "67\n",
      "68\n",
      "69\n",
      "70\n",
      "71\n",
      "73\n",
      "74\n",
      "75\n",
      "76\n",
      "77\n",
      "78\n",
      "79\n",
      "80\n",
      "82\n",
      "83\n",
      "84\n",
      "85\n",
      "86\n",
      "87\n",
      "88\n",
      "89\n",
      "91\n",
      "92\n",
      "93\n",
      "94\n",
      "95\n",
      "96\n",
      "97\n",
      "98\n",
      "100\n"
     ]
    }
   ],
   "source": [
    "for i in range(1,101):\n",
    "    if(i%9 == 0):\n",
    "        continue\n",
    "        \n",
    "    print(i)\n",
    "    "
   ]
  }
 ],
 "metadata": {
  "colab": {
   "collapsed_sections": [],
   "name": "ForAndWhileLoop.ipynb",
   "provenance": []
  },
  "kernelspec": {
   "display_name": "Python 3 (ipykernel)",
   "language": "python",
   "name": "python3"
  },
  "language_info": {
   "codemirror_mode": {
    "name": "ipython",
    "version": 3
   },
   "file_extension": ".py",
   "mimetype": "text/x-python",
   "name": "python",
   "nbconvert_exporter": "python",
   "pygments_lexer": "ipython3",
   "version": "3.9.12"
  }
 },
 "nbformat": 4,
 "nbformat_minor": 1
}
