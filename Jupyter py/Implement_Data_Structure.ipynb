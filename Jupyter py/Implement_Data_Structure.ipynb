{
 "cells": [
  {
   "cell_type": "code",
   "execution_count": 1,
   "metadata": {
    "executionInfo": {
     "elapsed": 10,
     "status": "ok",
     "timestamp": 1630390112761,
     "user": {
      "displayName": "ANANYA KUMAR",
      "photoUrl": "https://lh3.googleusercontent.com/a-/AOh14Gi2232rO3cnrc8uJkCqoLZxX-zoes3gB_cnoO_pDA=s64",
      "userId": "11752855501033589240"
     },
     "user_tz": -330
    },
    "id": "IQV-A7l1WwwQ"
   },
   "outputs": [],
   "source": [
    "mytuple = (1,2,3,4)"
   ]
  },
  {
   "cell_type": "code",
   "execution_count": 2,
   "metadata": {
    "colab": {
     "base_uri": "https://localhost:8080/"
    },
    "executionInfo": {
     "elapsed": 429,
     "status": "ok",
     "timestamp": 1630390121785,
     "user": {
      "displayName": "ANANYA KUMAR",
      "photoUrl": "https://lh3.googleusercontent.com/a-/AOh14Gi2232rO3cnrc8uJkCqoLZxX-zoes3gB_cnoO_pDA=s64",
      "userId": "11752855501033589240"
     },
     "user_tz": -330
    },
    "id": "C88k9RkeW0LD",
    "outputId": "f7a65cb3-f282-432e-d8b7-79b566ab04a0"
   },
   "outputs": [
    {
     "name": "stdout",
     "output_type": "stream",
     "text": [
      "0\n",
      "1\n"
     ]
    }
   ],
   "source": [
    "print(mytuple.count(6))\n",
    "print(mytuple.count(2))"
   ]
  },
  {
   "cell_type": "code",
   "execution_count": 3,
   "metadata": {
    "colab": {
     "base_uri": "https://localhost:8080/"
    },
    "executionInfo": {
     "elapsed": 356,
     "status": "ok",
     "timestamp": 1630390125897,
     "user": {
      "displayName": "ANANYA KUMAR",
      "photoUrl": "https://lh3.googleusercontent.com/a-/AOh14Gi2232rO3cnrc8uJkCqoLZxX-zoes3gB_cnoO_pDA=s64",
      "userId": "11752855501033589240"
     },
     "user_tz": -330
    },
    "id": "P_77LxRSW8fA",
    "outputId": "d93e6a0e-c3d5-449c-8be4-fb27df3c8192"
   },
   "outputs": [
    {
     "data": {
      "text/plain": [
       "1"
      ]
     },
     "execution_count": 3,
     "metadata": {},
     "output_type": "execute_result"
    }
   ],
   "source": [
    "mytuple.index(2)"
   ]
  },
  {
   "cell_type": "code",
   "execution_count": 5,
   "metadata": {
    "executionInfo": {
     "elapsed": 383,
     "status": "ok",
     "timestamp": 1630390149426,
     "user": {
      "displayName": "ANANYA KUMAR",
      "photoUrl": "https://lh3.googleusercontent.com/a-/AOh14Gi2232rO3cnrc8uJkCqoLZxX-zoes3gB_cnoO_pDA=s64",
      "userId": "11752855501033589240"
     },
     "user_tz": -330
    },
    "id": "EEhTwjr8Xl44"
   },
   "outputs": [],
   "source": [
    "myset = {1,2,3,4,5}"
   ]
  },
  {
   "cell_type": "markdown",
   "metadata": {
    "id": "wEJTQcJ7YFIf"
   },
   "source": [
    "#### Add an element to the set"
   ]
  },
  {
   "cell_type": "code",
   "execution_count": 6,
   "metadata": {
    "colab": {
     "base_uri": "https://localhost:8080/"
    },
    "executionInfo": {
     "elapsed": 13,
     "status": "ok",
     "timestamp": 1630390154421,
     "user": {
      "displayName": "ANANYA KUMAR",
      "photoUrl": "https://lh3.googleusercontent.com/a-/AOh14Gi2232rO3cnrc8uJkCqoLZxX-zoes3gB_cnoO_pDA=s64",
      "userId": "11752855501033589240"
     },
     "user_tz": -330
    },
    "id": "NSf0esRfX5wy",
    "outputId": "ac36bb30-c975-4622-e832-a893209cdba6"
   },
   "outputs": [
    {
     "name": "stdout",
     "output_type": "stream",
     "text": [
      "{1, 2, 3, 4, 5, 6}\n"
     ]
    }
   ],
   "source": [
    "myset.add(6)\n",
    "print(myset)"
   ]
  },
  {
   "cell_type": "markdown",
   "metadata": {
    "id": "0qfESeyAYml_"
   },
   "source": [
    "#### Update method on set is similar to the extend method in list. The difference is that if there are duplicate elements, one one occurence is added to the original set."
   ]
  },
  {
   "cell_type": "code",
   "execution_count": 7,
   "metadata": {
    "colab": {
     "base_uri": "https://localhost:8080/"
    },
    "executionInfo": {
     "elapsed": 400,
     "status": "ok",
     "timestamp": 1630390158217,
     "user": {
      "displayName": "ANANYA KUMAR",
      "photoUrl": "https://lh3.googleusercontent.com/a-/AOh14Gi2232rO3cnrc8uJkCqoLZxX-zoes3gB_cnoO_pDA=s64",
      "userId": "11752855501033589240"
     },
     "user_tz": -330
    },
    "id": "LGONIEdcYDB5",
    "outputId": "e083ab49-67f3-4a72-8a2d-69ef13b45c64"
   },
   "outputs": [
    {
     "data": {
      "text/plain": [
       "{1, 2, 3, 4, 5, 6, 7, 8}"
      ]
     },
     "execution_count": 7,
     "metadata": {},
     "output_type": "execute_result"
    }
   ],
   "source": [
    "myset2 = {4,5,6,7,8}\n",
    "myset.update(myset2)\n",
    "myset"
   ]
  },
  {
   "cell_type": "code",
   "execution_count": 8,
   "metadata": {
    "colab": {
     "base_uri": "https://localhost:8080/"
    },
    "executionInfo": {
     "elapsed": 388,
     "status": "ok",
     "timestamp": 1630390164047,
     "user": {
      "displayName": "ANANYA KUMAR",
      "photoUrl": "https://lh3.googleusercontent.com/a-/AOh14Gi2232rO3cnrc8uJkCqoLZxX-zoes3gB_cnoO_pDA=s64",
      "userId": "11752855501033589240"
     },
     "user_tz": -330
    },
    "id": "Y8KB6cvCYjQL",
    "outputId": "d555fd9a-9550-45ad-eea1-36576d398e1f"
   },
   "outputs": [
    {
     "data": {
      "text/plain": [
       "{1, 2, 3, 4, 5, 6, 7, 8, 9, 10}"
      ]
     },
     "execution_count": 8,
     "metadata": {},
     "output_type": "execute_result"
    }
   ],
   "source": [
    "mylist = {1,2,9,10}\n",
    "myset.update(mylist)\n",
    "myset"
   ]
  },
  {
   "cell_type": "code",
   "execution_count": 9,
   "metadata": {
    "executionInfo": {
     "elapsed": 384,
     "status": "ok",
     "timestamp": 1630390167218,
     "user": {
      "displayName": "ANANYA KUMAR",
      "photoUrl": "https://lh3.googleusercontent.com/a-/AOh14Gi2232rO3cnrc8uJkCqoLZxX-zoes3gB_cnoO_pDA=s64",
      "userId": "11752855501033589240"
     },
     "user_tz": -330
    },
    "id": "yQYjgQzqYwAk"
   },
   "outputs": [],
   "source": [
    "mydict = {1:\"one\",2:\"two\",3:\"three\"}"
   ]
  },
  {
   "cell_type": "code",
   "execution_count": 10,
   "metadata": {
    "colab": {
     "base_uri": "https://localhost:8080/"
    },
    "executionInfo": {
     "elapsed": 428,
     "status": "ok",
     "timestamp": 1630390170355,
     "user": {
      "displayName": "ANANYA KUMAR",
      "photoUrl": "https://lh3.googleusercontent.com/a-/AOh14Gi2232rO3cnrc8uJkCqoLZxX-zoes3gB_cnoO_pDA=s64",
      "userId": "11752855501033589240"
     },
     "user_tz": -330
    },
    "id": "op7xMGhK_-wu",
    "outputId": "d0a7cf3a-9b8a-4957-8852-8f18d6c7a4b5"
   },
   "outputs": [
    {
     "name": "stdout",
     "output_type": "stream",
     "text": [
      "1  -  one\n",
      "2  -  two\n",
      "3  -  three\n"
     ]
    }
   ],
   "source": [
    "for key in mydict.keys():\n",
    "  print(key,\" - \",mydict[key])"
   ]
  },
  {
   "cell_type": "code",
   "execution_count": 11,
   "metadata": {
    "colab": {
     "base_uri": "https://localhost:8080/"
    },
    "executionInfo": {
     "elapsed": 393,
     "status": "ok",
     "timestamp": 1630390174025,
     "user": {
      "displayName": "ANANYA KUMAR",
      "photoUrl": "https://lh3.googleusercontent.com/a-/AOh14Gi2232rO3cnrc8uJkCqoLZxX-zoes3gB_cnoO_pDA=s64",
      "userId": "11752855501033589240"
     },
     "user_tz": -330
    },
    "id": "ZyTufx6aAKgq",
    "outputId": "f27c2e52-2fd6-4356-e09c-67c0df7becb3"
   },
   "outputs": [
    {
     "name": "stdout",
     "output_type": "stream",
     "text": [
      "(1, 'one')\n",
      "(2, 'two')\n",
      "(3, 'three')\n"
     ]
    }
   ],
   "source": [
    "for item in mydict.items():\n",
    "  print(item)"
   ]
  },
  {
   "cell_type": "code",
   "execution_count": 12,
   "metadata": {
    "colab": {
     "base_uri": "https://localhost:8080/"
    },
    "executionInfo": {
     "elapsed": 360,
     "status": "ok",
     "timestamp": 1630390181894,
     "user": {
      "displayName": "ANANYA KUMAR",
      "photoUrl": "https://lh3.googleusercontent.com/a-/AOh14Gi2232rO3cnrc8uJkCqoLZxX-zoes3gB_cnoO_pDA=s64",
      "userId": "11752855501033589240"
     },
     "user_tz": -330
    },
    "id": "3O8MnFoOb_Ft",
    "outputId": "b3274dee-e5f6-43ae-f606-ac42285e0d79"
   },
   "outputs": [
    {
     "name": "stdout",
     "output_type": "stream",
     "text": [
      "{1: None, 2: None, 3: None, 4: None, 5: None, 6: None}\n",
      "{1: 0, 2: 0, 3: 0, 4: 0, 5: 0, 6: 0}\n"
     ]
    }
   ],
   "source": [
    "mylist1 = [1,2,3,4,5,6]\n",
    "\n",
    "#Creates a dictionary mapping the keys in the collection onto None\n",
    "print(mydict.fromkeys(mylist1))\n",
    "\n",
    "#Creates a dictionary mapping the keys on the the value passed as second parameter\n",
    "print(mydict.fromkeys(mylist1,0))"
   ]
  },
  {
   "cell_type": "code",
   "execution_count": 13,
   "metadata": {
    "executionInfo": {
     "elapsed": 519,
     "status": "ok",
     "timestamp": 1630390185863,
     "user": {
      "displayName": "ANANYA KUMAR",
      "photoUrl": "https://lh3.googleusercontent.com/a-/AOh14Gi2232rO3cnrc8uJkCqoLZxX-zoes3gB_cnoO_pDA=s64",
      "userId": "11752855501033589240"
     },
     "user_tz": -330
    },
    "id": "xlUGfeyFd0v-"
   },
   "outputs": [],
   "source": [
    "mydict2 = mydict.copy()"
   ]
  },
  {
   "cell_type": "code",
   "execution_count": 14,
   "metadata": {
    "executionInfo": {
     "elapsed": 482,
     "status": "ok",
     "timestamp": 1630390188257,
     "user": {
      "displayName": "ANANYA KUMAR",
      "photoUrl": "https://lh3.googleusercontent.com/a-/AOh14Gi2232rO3cnrc8uJkCqoLZxX-zoes3gB_cnoO_pDA=s64",
      "userId": "11752855501033589240"
     },
     "user_tz": -330
    },
    "id": "0OKnb_1tDjUg"
   },
   "outputs": [],
   "source": [
    "mydict2[\"newkey\"] = \"newvalue\""
   ]
  },
  {
   "cell_type": "code",
   "execution_count": 15,
   "metadata": {
    "colab": {
     "base_uri": "https://localhost:8080/"
    },
    "executionInfo": {
     "elapsed": 496,
     "status": "ok",
     "timestamp": 1630390190600,
     "user": {
      "displayName": "ANANYA KUMAR",
      "photoUrl": "https://lh3.googleusercontent.com/a-/AOh14Gi2232rO3cnrc8uJkCqoLZxX-zoes3gB_cnoO_pDA=s64",
      "userId": "11752855501033589240"
     },
     "user_tz": -330
    },
    "id": "Fs4CY8LjDqAQ",
    "outputId": "696b8e53-a47c-47c5-e530-f4b0754756c7"
   },
   "outputs": [
    {
     "name": "stdout",
     "output_type": "stream",
     "text": [
      "mydict  {1: 'one', 2: 'two', 3: 'three'}\n",
      "mydict2  {1: 'one', 2: 'two', 3: 'three', 'newkey': 'newvalue'}\n"
     ]
    }
   ],
   "source": [
    "print(\"mydict \",mydict)\n",
    "print(\"mydict2 \",mydict2)"
   ]
  },
  {
   "cell_type": "code",
   "execution_count": null,
   "metadata": {
    "id": "C0tzKl2U0_zj"
   },
   "outputs": [],
   "source": []
  }
 ],
 "metadata": {
  "colab": {
   "collapsed_sections": [],
   "name": "Implement_Data_Structure.ipynb",
   "provenance": []
  },
  "kernelspec": {
   "display_name": "Python 3 (ipykernel)",
   "language": "python",
   "name": "python3"
  },
  "language_info": {
   "codemirror_mode": {
    "name": "ipython",
    "version": 3
   },
   "file_extension": ".py",
   "mimetype": "text/x-python",
   "name": "python",
   "nbconvert_exporter": "python",
   "pygments_lexer": "ipython3",
   "version": "3.9.12"
  }
 },
 "nbformat": 4,
 "nbformat_minor": 1
}
