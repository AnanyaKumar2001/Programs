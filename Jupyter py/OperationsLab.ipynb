{
 "cells": [
  {
   "cell_type": "markdown",
   "metadata": {
    "id": "HlVfOBtl26Ty"
   },
   "source": [
    "## Instructions\n",
    "\n",
    "### Arithmetic Operations"
   ]
  },
  {
   "cell_type": "code",
   "execution_count": 1,
   "metadata": {
    "executionInfo": {
     "elapsed": 12,
     "status": "ok",
     "timestamp": 1630390742616,
     "user": {
      "displayName": "ANANYA KUMAR",
      "photoUrl": "https://lh3.googleusercontent.com/a-/AOh14Gi2232rO3cnrc8uJkCqoLZxX-zoes3gB_cnoO_pDA=s64",
      "userId": "11752855501033589240"
     },
     "user_tz": -330
    },
    "id": "zLNDli8226T6"
   },
   "outputs": [],
   "source": [
    "#Declare the variables to use for the operations\n",
    "x = 10\n",
    "y = 3"
   ]
  },
  {
   "cell_type": "code",
   "execution_count": 2,
   "metadata": {
    "colab": {
     "base_uri": "https://localhost:8080/"
    },
    "executionInfo": {
     "elapsed": 642,
     "status": "ok",
     "timestamp": 1630390745395,
     "user": {
      "displayName": "ANANYA KUMAR",
      "photoUrl": "https://lh3.googleusercontent.com/a-/AOh14Gi2232rO3cnrc8uJkCqoLZxX-zoes3gB_cnoO_pDA=s64",
      "userId": "11752855501033589240"
     },
     "user_tz": -330
    },
    "id": "_2AYCVg626T-",
    "outputId": "7ed53f14-e05e-4290-9401-8c613ae0444b"
   },
   "outputs": [
    {
     "name": "stdout",
     "output_type": "stream",
     "text": [
      "The result of addition operation is  13\n"
     ]
    }
   ],
   "source": [
    "print(\"The result of addition operation is \",x+y)"
   ]
  },
  {
   "cell_type": "code",
   "execution_count": 3,
   "metadata": {
    "colab": {
     "base_uri": "https://localhost:8080/"
    },
    "executionInfo": {
     "elapsed": 13,
     "status": "ok",
     "timestamp": 1630390748008,
     "user": {
      "displayName": "ANANYA KUMAR",
      "photoUrl": "https://lh3.googleusercontent.com/a-/AOh14Gi2232rO3cnrc8uJkCqoLZxX-zoes3gB_cnoO_pDA=s64",
      "userId": "11752855501033589240"
     },
     "user_tz": -330
    },
    "id": "fRuNZX3M26T_",
    "outputId": "6eab520e-9581-4478-e92a-8b0727e95ca4"
   },
   "outputs": [
    {
     "name": "stdout",
     "output_type": "stream",
     "text": [
      "The result of subtraction operation is  7\n"
     ]
    }
   ],
   "source": [
    "print(\"The result of subtraction operation is \",x-y)"
   ]
  },
  {
   "cell_type": "code",
   "execution_count": 4,
   "metadata": {
    "colab": {
     "base_uri": "https://localhost:8080/"
    },
    "executionInfo": {
     "elapsed": 428,
     "status": "ok",
     "timestamp": 1630390757081,
     "user": {
      "displayName": "ANANYA KUMAR",
      "photoUrl": "https://lh3.googleusercontent.com/a-/AOh14Gi2232rO3cnrc8uJkCqoLZxX-zoes3gB_cnoO_pDA=s64",
      "userId": "11752855501033589240"
     },
     "user_tz": -330
    },
    "id": "RudHlK6H26UA",
    "outputId": "f4082896-24f5-4c9a-95ef-346ec61dc215"
   },
   "outputs": [
    {
     "name": "stdout",
     "output_type": "stream",
     "text": [
      "The result of multiplication operation is  30\n"
     ]
    }
   ],
   "source": [
    "print(\"The result of multiplication operation is \",x*y)"
   ]
  },
  {
   "cell_type": "code",
   "execution_count": 5,
   "metadata": {
    "colab": {
     "base_uri": "https://localhost:8080/"
    },
    "executionInfo": {
     "elapsed": 625,
     "status": "ok",
     "timestamp": 1630390759917,
     "user": {
      "displayName": "ANANYA KUMAR",
      "photoUrl": "https://lh3.googleusercontent.com/a-/AOh14Gi2232rO3cnrc8uJkCqoLZxX-zoes3gB_cnoO_pDA=s64",
      "userId": "11752855501033589240"
     },
     "user_tz": -330
    },
    "id": "OsRx7KjM26UC",
    "outputId": "0fc83d6d-5325-4b77-8591-06182fd5c008"
   },
   "outputs": [
    {
     "name": "stdout",
     "output_type": "stream",
     "text": [
      "The result of division operation is  3.3333333333333335\n"
     ]
    }
   ],
   "source": [
    "print(\"The result of division operation is \",x/y)"
   ]
  },
  {
   "cell_type": "code",
   "execution_count": 6,
   "metadata": {
    "colab": {
     "base_uri": "https://localhost:8080/"
    },
    "executionInfo": {
     "elapsed": 778,
     "status": "ok",
     "timestamp": 1630390768705,
     "user": {
      "displayName": "ANANYA KUMAR",
      "photoUrl": "https://lh3.googleusercontent.com/a-/AOh14Gi2232rO3cnrc8uJkCqoLZxX-zoes3gB_cnoO_pDA=s64",
      "userId": "11752855501033589240"
     },
     "user_tz": -330
    },
    "id": "iu-i7mga26UD",
    "outputId": "44b417d0-0fea-4042-8b8e-d5f6467b3912"
   },
   "outputs": [
    {
     "name": "stdout",
     "output_type": "stream",
     "text": [
      "The result of Floor division operation is  3\n"
     ]
    }
   ],
   "source": [
    "print(\"The result of Floor division operation is \",x//y)"
   ]
  },
  {
   "cell_type": "markdown",
   "metadata": {
    "id": "OzMsU-zV26UG"
   },
   "source": [
    "Observe the result of the floor divison in the previous step"
   ]
  },
  {
   "cell_type": "code",
   "execution_count": 7,
   "metadata": {
    "colab": {
     "base_uri": "https://localhost:8080/"
    },
    "executionInfo": {
     "elapsed": 485,
     "status": "ok",
     "timestamp": 1630390775776,
     "user": {
      "displayName": "ANANYA KUMAR",
      "photoUrl": "https://lh3.googleusercontent.com/a-/AOh14Gi2232rO3cnrc8uJkCqoLZxX-zoes3gB_cnoO_pDA=s64",
      "userId": "11752855501033589240"
     },
     "user_tz": -330
    },
    "id": "Nvz5F64V26UI",
    "outputId": "10046144-db1a-4550-bfdd-103c4c988c8a"
   },
   "outputs": [
    {
     "name": "stdout",
     "output_type": "stream",
     "text": [
      "The result of exponentiation operation is  1000\n"
     ]
    }
   ],
   "source": [
    "print(\"The result of exponentiation operation is \",x**y)"
   ]
  },
  {
   "cell_type": "markdown",
   "metadata": {
    "id": "lS0uP7kV26UL"
   },
   "source": [
    "### Comparison Operations"
   ]
  },
  {
   "cell_type": "code",
   "execution_count": 8,
   "metadata": {
    "colab": {
     "base_uri": "https://localhost:8080/"
    },
    "executionInfo": {
     "elapsed": 736,
     "status": "ok",
     "timestamp": 1630390794994,
     "user": {
      "displayName": "ANANYA KUMAR",
      "photoUrl": "https://lh3.googleusercontent.com/a-/AOh14Gi2232rO3cnrc8uJkCqoLZxX-zoes3gB_cnoO_pDA=s64",
      "userId": "11752855501033589240"
     },
     "user_tz": -330
    },
    "id": "p0WixMlP26UM",
    "outputId": "be6a86b2-4223-48c7-ac8a-b59f9817fcc8"
   },
   "outputs": [
    {
     "name": "stdout",
     "output_type": "stream",
     "text": [
      "The output of the comparison 4>3 is  True\n",
      "The output of the comparison 3>4 is  False\n"
     ]
    }
   ],
   "source": [
    "print(\"The output of the comparison 4>3 is \",4>3)\n",
    "print(\"The output of the comparison 3>4 is \",3>4)"
   ]
  },
  {
   "cell_type": "code",
   "execution_count": 9,
   "metadata": {
    "colab": {
     "base_uri": "https://localhost:8080/"
    },
    "executionInfo": {
     "elapsed": 405,
     "status": "ok",
     "timestamp": 1630390799463,
     "user": {
      "displayName": "ANANYA KUMAR",
      "photoUrl": "https://lh3.googleusercontent.com/a-/AOh14Gi2232rO3cnrc8uJkCqoLZxX-zoes3gB_cnoO_pDA=s64",
      "userId": "11752855501033589240"
     },
     "user_tz": -330
    },
    "id": "ZXMMMrri26UM",
    "outputId": "9201b915-b2d4-438d-e2ae-402575d642bd"
   },
   "outputs": [
    {
     "name": "stdout",
     "output_type": "stream",
     "text": [
      "The output of the comparison 4<3 is  False\n",
      "The output of the comparison 3<4 is  True\n"
     ]
    }
   ],
   "source": [
    "print(\"The output of the comparison 4<3 is \",4<3)\n",
    "print(\"The output of the comparison 3<4 is \",3<4)"
   ]
  },
  {
   "cell_type": "code",
   "execution_count": 10,
   "metadata": {
    "colab": {
     "base_uri": "https://localhost:8080/"
    },
    "executionInfo": {
     "elapsed": 505,
     "status": "ok",
     "timestamp": 1630390804256,
     "user": {
      "displayName": "ANANYA KUMAR",
      "photoUrl": "https://lh3.googleusercontent.com/a-/AOh14Gi2232rO3cnrc8uJkCqoLZxX-zoes3gB_cnoO_pDA=s64",
      "userId": "11752855501033589240"
     },
     "user_tz": -330
    },
    "id": "xN8AgZRi26UN",
    "outputId": "0fc7cfac-4e36-4645-f29f-b3a068c5f5d1"
   },
   "outputs": [
    {
     "name": "stdout",
     "output_type": "stream",
     "text": [
      "The output of the comparison 3 == 3 is  True\n",
      "The output of the comparison 3 == 4 is  False\n"
     ]
    }
   ],
   "source": [
    "print(\"The output of the comparison 3 == 3 is \",3 == 3)\n",
    "print(\"The output of the comparison 3 == 4 is \",3 == 4)"
   ]
  },
  {
   "cell_type": "code",
   "execution_count": 11,
   "metadata": {
    "colab": {
     "base_uri": "https://localhost:8080/"
    },
    "executionInfo": {
     "elapsed": 597,
     "status": "ok",
     "timestamp": 1630390815747,
     "user": {
      "displayName": "ANANYA KUMAR",
      "photoUrl": "https://lh3.googleusercontent.com/a-/AOh14Gi2232rO3cnrc8uJkCqoLZxX-zoes3gB_cnoO_pDA=s64",
      "userId": "11752855501033589240"
     },
     "user_tz": -330
    },
    "id": "VsnGvEiK26UO",
    "outputId": "45c3bdf8-f9cc-4373-9ec9-078678bddfa0"
   },
   "outputs": [
    {
     "name": "stdout",
     "output_type": "stream",
     "text": [
      "The output of the comparison 3 >= 3 is  True\n",
      "The output of the comparison 3 >= 2 is  True\n",
      "The output of the comparison 3 >= 5 is  False\n"
     ]
    }
   ],
   "source": [
    "print(\"The output of the comparison 3 >= 3 is \",3 >= 3)\n",
    "print(\"The output of the comparison 3 >= 2 is \",3 >= 2)\n",
    "print(\"The output of the comparison 3 >= 5 is \",3 >= 5)"
   ]
  },
  {
   "cell_type": "code",
   "execution_count": 12,
   "metadata": {
    "colab": {
     "base_uri": "https://localhost:8080/"
    },
    "executionInfo": {
     "elapsed": 620,
     "status": "ok",
     "timestamp": 1630390821190,
     "user": {
      "displayName": "ANANYA KUMAR",
      "photoUrl": "https://lh3.googleusercontent.com/a-/AOh14Gi2232rO3cnrc8uJkCqoLZxX-zoes3gB_cnoO_pDA=s64",
      "userId": "11752855501033589240"
     },
     "user_tz": -330
    },
    "id": "OzdFDlmu26UQ",
    "outputId": "abcd303b-17e4-48d1-ac35-467ecea3c423"
   },
   "outputs": [
    {
     "name": "stdout",
     "output_type": "stream",
     "text": [
      "The output of the comparison 3 <= 3 is  True\n",
      "The output of the comparison 3 <= 5 is  True\n",
      "The output of the comparison 3 <= 2 is  False\n"
     ]
    }
   ],
   "source": [
    "print(\"The output of the comparison 3 <= 3 is \",3 <= 3)\n",
    "print(\"The output of the comparison 3 <= 5 is \",3 <= 5 )\n",
    "print(\"The output of the comparison 3 <= 2 is \",3 <= 2)"
   ]
  },
  {
   "cell_type": "code",
   "execution_count": 13,
   "metadata": {
    "colab": {
     "base_uri": "https://localhost:8080/"
    },
    "executionInfo": {
     "elapsed": 410,
     "status": "ok",
     "timestamp": 1630390827625,
     "user": {
      "displayName": "ANANYA KUMAR",
      "photoUrl": "https://lh3.googleusercontent.com/a-/AOh14Gi2232rO3cnrc8uJkCqoLZxX-zoes3gB_cnoO_pDA=s64",
      "userId": "11752855501033589240"
     },
     "user_tz": -330
    },
    "id": "PrAyyoJt26UR",
    "outputId": "01563edd-c793-41d2-b038-dd7d24f8c314"
   },
   "outputs": [
    {
     "name": "stdout",
     "output_type": "stream",
     "text": [
      "The output of the comparison 3 != 4 is  True\n",
      "The output of the comparison 3 != 3 is  False\n"
     ]
    }
   ],
   "source": [
    "print(\"The output of the comparison 3 != 4 is \",3 != 4)\n",
    "print(\"The output of the comparison 3 != 3 is \",3 != 3)"
   ]
  },
  {
   "cell_type": "markdown",
   "metadata": {
    "id": "P8KMLalM26UR"
   },
   "source": [
    "### Logical Operators"
   ]
  },
  {
   "cell_type": "code",
   "execution_count": 14,
   "metadata": {
    "colab": {
     "base_uri": "https://localhost:8080/"
    },
    "executionInfo": {
     "elapsed": 647,
     "status": "ok",
     "timestamp": 1630390834019,
     "user": {
      "displayName": "ANANYA KUMAR",
      "photoUrl": "https://lh3.googleusercontent.com/a-/AOh14Gi2232rO3cnrc8uJkCqoLZxX-zoes3gB_cnoO_pDA=s64",
      "userId": "11752855501033589240"
     },
     "user_tz": -330
    },
    "id": "Hh-cNK1h26US",
    "outputId": "df00e089-574a-4361-d2e0-fd4b14358791"
   },
   "outputs": [
    {
     "name": "stdout",
     "output_type": "stream",
     "text": [
      "The output of the 3>2 and 4>1 is  True\n",
      "The output of the 3<2 and 4>1 is  False\n",
      "The output of the 3>2 and 4<1 is  False\n"
     ]
    }
   ],
   "source": [
    "#both true\n",
    "print(\"The output of the 3>2 and 4>1 is \",3>2 and 4>1)\n",
    "\n",
    "#First false, Second true\n",
    "print(\"The output of the 3<2 and 4>1 is \",3<2 and 4>1)\n",
    "\n",
    "#Second false, First true\n",
    "print(\"The output of the 3>2 and 4<1 is \",3>2 and 4<1)\n"
   ]
  },
  {
   "cell_type": "code",
   "execution_count": 15,
   "metadata": {
    "colab": {
     "base_uri": "https://localhost:8080/"
    },
    "executionInfo": {
     "elapsed": 658,
     "status": "ok",
     "timestamp": 1630390840434,
     "user": {
      "displayName": "ANANYA KUMAR",
      "photoUrl": "https://lh3.googleusercontent.com/a-/AOh14Gi2232rO3cnrc8uJkCqoLZxX-zoes3gB_cnoO_pDA=s64",
      "userId": "11752855501033589240"
     },
     "user_tz": -330
    },
    "id": "2ONoqhbe26US",
    "outputId": "79b080ee-898d-4163-de01-f57225465a97"
   },
   "outputs": [
    {
     "name": "stdout",
     "output_type": "stream",
     "text": [
      "The output of the 3>2 or 4>1 is  True\n",
      "The output of the 3<2 or 4>1 is  True\n",
      "The output of the 3>2 or 4<1 is  True\n",
      "The output of the 3<2 or 4<1 is  False\n"
     ]
    }
   ],
   "source": [
    "#both true\n",
    "print(\"The output of the 3>2 or 4>1 is \",3>2 or 4>1)\n",
    "\n",
    "#First false, Second true\n",
    "print(\"The output of the 3<2 or 4>1 is \",3<2 or 4>1)\n",
    "\n",
    "#Second false, First true\n",
    "print(\"The output of the 3>2 or 4<1 is \",3>2 or 4<1)\n",
    "\n",
    "#Both false\n",
    "print(\"The output of the 3<2 or 4<1 is \",3<2 or 4<1)\n",
    "\n"
   ]
  },
  {
   "cell_type": "code",
   "execution_count": 16,
   "metadata": {
    "colab": {
     "base_uri": "https://localhost:8080/"
    },
    "executionInfo": {
     "elapsed": 367,
     "status": "ok",
     "timestamp": 1630390843892,
     "user": {
      "displayName": "ANANYA KUMAR",
      "photoUrl": "https://lh3.googleusercontent.com/a-/AOh14Gi2232rO3cnrc8uJkCqoLZxX-zoes3gB_cnoO_pDA=s64",
      "userId": "11752855501033589240"
     },
     "user_tz": -330
    },
    "id": "QOdC8mUH26UT",
    "outputId": "418074e6-278f-477d-ebca-bbf62917070b"
   },
   "outputs": [
    {
     "name": "stdout",
     "output_type": "stream",
     "text": [
      "The output of the not(True)  False\n",
      "The output of the not(False)  True\n"
     ]
    }
   ],
   "source": [
    "print(\"The output of the not(True) \",not(True))\n",
    "print(\"The output of the not(False) \",not(False))\n",
    "\n"
   ]
  },
  {
   "cell_type": "code",
   "execution_count": 17,
   "metadata": {
    "colab": {
     "base_uri": "https://localhost:8080/"
    },
    "executionInfo": {
     "elapsed": 9655,
     "status": "ok",
     "timestamp": 1630390869019,
     "user": {
      "displayName": "ANANYA KUMAR",
      "photoUrl": "https://lh3.googleusercontent.com/a-/AOh14Gi2232rO3cnrc8uJkCqoLZxX-zoes3gB_cnoO_pDA=s64",
      "userId": "11752855501033589240"
     },
     "user_tz": -330
    },
    "id": "UlFLUJBr26UT",
    "outputId": "e10ef918-7461-400e-d36c-bcd7ec80ac51"
   },
   "outputs": [
    {
     "name": "stdout",
     "output_type": "stream",
     "text": [
      "Input a number6\n",
      "The output of the not(userInput>5)  False\n"
     ]
    }
   ],
   "source": [
    "userInput = int(input(\"Input a number\"))\n",
    "\n",
    "print(\"The output of the not(userInput>5) \",not(userInput>5))\n"
   ]
  }
 ],
 "metadata": {
  "colab": {
   "collapsed_sections": [],
   "name": "OperationsLab.ipynb",
   "provenance": []
  },
  "kernelspec": {
   "display_name": "Python 3 (ipykernel)",
   "language": "python",
   "name": "python3"
  },
  "language_info": {
   "codemirror_mode": {
    "name": "ipython",
    "version": 3
   },
   "file_extension": ".py",
   "mimetype": "text/x-python",
   "name": "python",
   "nbconvert_exporter": "python",
   "pygments_lexer": "ipython3",
   "version": "3.9.12"
  }
 },
 "nbformat": 4,
 "nbformat_minor": 1
}
