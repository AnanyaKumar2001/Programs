{
 "cells": [
  {
   "cell_type": "markdown",
   "metadata": {
    "id": "rRFRdZV0zGpw"
   },
   "source": [
    "### Functions"
   ]
  },
  {
   "cell_type": "markdown",
   "metadata": {
    "id": "tlSgfNq2zGp6"
   },
   "source": [
    "#### Built-in function"
   ]
  },
  {
   "cell_type": "code",
   "execution_count": 1,
   "metadata": {
    "colab": {
     "base_uri": "https://localhost:8080/"
    },
    "executionInfo": {
     "elapsed": 14955,
     "status": "ok",
     "timestamp": 1630389777709,
     "user": {
      "displayName": "ANANYA KUMAR",
      "photoUrl": "https://lh3.googleusercontent.com/a-/AOh14Gi2232rO3cnrc8uJkCqoLZxX-zoes3gB_cnoO_pDA=s64",
      "userId": "11752855501033589240"
     },
     "user_tz": -330
    },
    "id": "D_IxGvl2zGp8",
    "outputId": "33135288-ee58-4d31-b764-94ad93cb40ef"
   },
   "outputs": [
    {
     "name": "stdout",
     "output_type": "stream",
     "text": [
      "Enter a string python\n",
      "The length of the String is  6\n"
     ]
    }
   ],
   "source": [
    "str1 = input(\"Enter a string \")\n",
    "\n",
    "#len is a built-in function. Use the len function to find the length of the string\n",
    "\n",
    "print(\"The length of the String is \",len(str1))\n"
   ]
  },
  {
   "cell_type": "markdown",
   "metadata": {
    "id": "Mzqz8EigzGqE"
   },
   "source": [
    "#### User-defined function"
   ]
  },
  {
   "cell_type": "code",
   "execution_count": 2,
   "metadata": {
    "colab": {
     "base_uri": "https://localhost:8080/"
    },
    "executionInfo": {
     "elapsed": 7251,
     "status": "ok",
     "timestamp": 1630389814882,
     "user": {
      "displayName": "ANANYA KUMAR",
      "photoUrl": "https://lh3.googleusercontent.com/a-/AOh14Gi2232rO3cnrc8uJkCqoLZxX-zoes3gB_cnoO_pDA=s64",
      "userId": "11752855501033589240"
     },
     "user_tz": -330
    },
    "id": "qh2tqlA6zGqF",
    "outputId": "e174a50b-48b2-47a8-e84e-61ad96122c52"
   },
   "outputs": [
    {
     "name": "stdout",
     "output_type": "stream",
     "text": [
      "Enter a string to reverse python\n",
      "nohtyp\n"
     ]
    }
   ],
   "source": [
    "def revString(str1):\n",
    "    '''Reverse the string that is passed as a parameter'''\n",
    "    revstr = \"\"\n",
    "    for charInStr in str1:\n",
    "        revstr = charInStr + revstr\n",
    "    return revstr\n",
    "\n",
    "userInput = input(\"Enter a string to reverse \")\n",
    "print(revString(userInput))"
   ]
  },
  {
   "cell_type": "markdown",
   "metadata": {
    "id": "nZL_f6j_zGqH"
   },
   "source": [
    "### Scope of the variables"
   ]
  },
  {
   "cell_type": "code",
   "execution_count": 3,
   "metadata": {
    "colab": {
     "base_uri": "https://localhost:8080/"
    },
    "executionInfo": {
     "elapsed": 7215,
     "status": "ok",
     "timestamp": 1630389831546,
     "user": {
      "displayName": "ANANYA KUMAR",
      "photoUrl": "https://lh3.googleusercontent.com/a-/AOh14Gi2232rO3cnrc8uJkCqoLZxX-zoes3gB_cnoO_pDA=s64",
      "userId": "11752855501033589240"
     },
     "user_tz": -330
    },
    "id": "HBtTay7WzGqI",
    "outputId": "56164101-91f4-42d3-d66b-ed652db0c8e4"
   },
   "outputs": [
    {
     "name": "stdout",
     "output_type": "stream",
     "text": [
      "Enter a string to reverse python\n",
      "str1 inside the function  nohtyp\n",
      "Output of the function  nohtyp\n",
      "str1 outside the function  python\n"
     ]
    }
   ],
   "source": [
    "def revString(str1):\n",
    "    '''Reverse the string that is passed as a parameter'''\n",
    "    revstr = \"\"\n",
    "    for charInStr in str1:\n",
    "        revstr = charInStr + revstr\n",
    "    str1 = revstr\n",
    "    print(\"str1 inside the function \",str1)    \n",
    "    return str1\n",
    "\n",
    "str1 = input(\"Enter a string to reverse \")\n",
    "print(\"Output of the function \",revString(userInput))\n",
    "print(\"str1 outside the function \",str1)"
   ]
  },
  {
   "cell_type": "markdown",
   "metadata": {
    "id": "owiXmSTJzGqL"
   },
   "source": [
    "### Class"
   ]
  },
  {
   "cell_type": "code",
   "execution_count": 4,
   "metadata": {
    "executionInfo": {
     "elapsed": 648,
     "status": "ok",
     "timestamp": 1630389845862,
     "user": {
      "displayName": "ANANYA KUMAR",
      "photoUrl": "https://lh3.googleusercontent.com/a-/AOh14Gi2232rO3cnrc8uJkCqoLZxX-zoes3gB_cnoO_pDA=s64",
      "userId": "11752855501033589240"
     },
     "user_tz": -330
    },
    "id": "p983bL8DzGqN"
   },
   "outputs": [],
   "source": [
    "class Person:\n",
    "    \n",
    "    #constructor which is invoked when an instance of the class is created\n",
    "    def __init__(self,name):\n",
    "        self.name = name\n",
    "    \n",
    "    # A class method which prints a greeting to the user. \n",
    "    #self paramter indicates that it is a class method\n",
    "    def greetings(self):\n",
    "        print(\"Hello, my name is \",self.name)\n",
    "\n"
   ]
  },
  {
   "cell_type": "markdown",
   "metadata": {
    "id": "W6pJ5WUVzGqR"
   },
   "source": [
    "### Create an object of the class Person"
   ]
  },
  {
   "cell_type": "code",
   "execution_count": 5,
   "metadata": {
    "colab": {
     "base_uri": "https://localhost:8080/"
    },
    "executionInfo": {
     "elapsed": 386,
     "status": "ok",
     "timestamp": 1630389856173,
     "user": {
      "displayName": "ANANYA KUMAR",
      "photoUrl": "https://lh3.googleusercontent.com/a-/AOh14Gi2232rO3cnrc8uJkCqoLZxX-zoes3gB_cnoO_pDA=s64",
      "userId": "11752855501033589240"
     },
     "user_tz": -330
    },
    "id": "Oao-XGUIzGqS",
    "outputId": "0f319028-2484-45a0-9642-85dce8738379"
   },
   "outputs": [
    {
     "name": "stdout",
     "output_type": "stream",
     "text": [
      "Hello, my name is  Alex\n"
     ]
    }
   ],
   "source": [
    "p = Person(\"Alex\")\n",
    "\n",
    "#invoke the class method on the object\n",
    "p.greetings()"
   ]
  },
  {
   "cell_type": "code",
   "execution_count": null,
   "metadata": {
    "id": "QgBnw8TBzuOy"
   },
   "outputs": [],
   "source": []
  }
 ],
 "metadata": {
  "colab": {
   "collapsed_sections": [],
   "name": "Functions_Class_Object.ipynb",
   "provenance": []
  },
  "kernelspec": {
   "display_name": "Python 3 (ipykernel)",
   "language": "python",
   "name": "python3"
  },
  "language_info": {
   "codemirror_mode": {
    "name": "ipython",
    "version": 3
   },
   "file_extension": ".py",
   "mimetype": "text/x-python",
   "name": "python",
   "nbconvert_exporter": "python",
   "pygments_lexer": "ipython3",
   "version": "3.9.12"
  }
 },
 "nbformat": 4,
 "nbformat_minor": 1
}
