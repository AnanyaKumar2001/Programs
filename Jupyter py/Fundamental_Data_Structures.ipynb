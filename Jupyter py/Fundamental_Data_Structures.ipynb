{
 "cells": [
  {
   "cell_type": "code",
   "execution_count": 1,
   "metadata": {
    "executionInfo": {
     "elapsed": 9,
     "status": "ok",
     "timestamp": 1630389917232,
     "user": {
      "displayName": "ANANYA KUMAR",
      "photoUrl": "https://lh3.googleusercontent.com/a-/AOh14Gi2232rO3cnrc8uJkCqoLZxX-zoes3gB_cnoO_pDA=s64",
      "userId": "11752855501033589240"
     },
     "user_tz": -330
    },
    "id": "jSbzO3FEz2wi"
   },
   "outputs": [],
   "source": [
    "mylist = [1,\"two\",3,(\"four\",\"five\"),{\"six\":6,\"seven\":7}]"
   ]
  },
  {
   "cell_type": "code",
   "execution_count": 2,
   "metadata": {
    "colab": {
     "base_uri": "https://localhost:8080/"
    },
    "executionInfo": {
     "elapsed": 408,
     "status": "ok",
     "timestamp": 1630389921980,
     "user": {
      "displayName": "ANANYA KUMAR",
      "photoUrl": "https://lh3.googleusercontent.com/a-/AOh14Gi2232rO3cnrc8uJkCqoLZxX-zoes3gB_cnoO_pDA=s64",
      "userId": "11752855501033589240"
     },
     "user_tz": -330
    },
    "id": "ZR1hY-_8z2wu",
    "outputId": "45f4dc31-3d5b-4746-89c6-7b77cca530f3"
   },
   "outputs": [
    {
     "data": {
      "text/plain": [
       "list"
      ]
     },
     "execution_count": 2,
     "metadata": {},
     "output_type": "execute_result"
    }
   ],
   "source": [
    "type(mylist)"
   ]
  },
  {
   "cell_type": "code",
   "execution_count": 3,
   "metadata": {
    "colab": {
     "base_uri": "https://localhost:8080/"
    },
    "executionInfo": {
     "elapsed": 409,
     "status": "ok",
     "timestamp": 1630389928100,
     "user": {
      "displayName": "ANANYA KUMAR",
      "photoUrl": "https://lh3.googleusercontent.com/a-/AOh14Gi2232rO3cnrc8uJkCqoLZxX-zoes3gB_cnoO_pDA=s64",
      "userId": "11752855501033589240"
     },
     "user_tz": -330
    },
    "id": "_kHR4Dbrz2ww",
    "outputId": "53888c8f-2bfa-4781-e70d-7b217f9d3b86"
   },
   "outputs": [
    {
     "name": "stdout",
     "output_type": "stream",
     "text": [
      "1st element  1\n",
      "2nd element  two\n",
      "3rd element  3\n",
      "4th element  ('four', 'five')\n",
      "5th element  {'six': 6, 'seven': 7}\n"
     ]
    }
   ],
   "source": [
    "print(\"1st element \",mylist[0])\n",
    "print(\"2nd element \",mylist[1])\n",
    "print(\"3rd element \",mylist[2])\n",
    "print(\"4th element \",mylist[3])\n",
    "print(\"5th element \",mylist[4])"
   ]
  },
  {
   "cell_type": "code",
   "execution_count": 4,
   "metadata": {
    "colab": {
     "base_uri": "https://localhost:8080/"
    },
    "executionInfo": {
     "elapsed": 553,
     "status": "ok",
     "timestamp": 1630389935779,
     "user": {
      "displayName": "ANANYA KUMAR",
      "photoUrl": "https://lh3.googleusercontent.com/a-/AOh14Gi2232rO3cnrc8uJkCqoLZxX-zoes3gB_cnoO_pDA=s64",
      "userId": "11752855501033589240"
     },
     "user_tz": -330
    },
    "id": "DzAYCmdmz2wy",
    "outputId": "afb0c3d9-6a66-476c-e6f1-22580779e240"
   },
   "outputs": [
    {
     "name": "stdout",
     "output_type": "stream",
     "text": [
      "5th element  {'six': 6, 'seven': 7}\n",
      "4th element  ('four', 'five')\n",
      "3rd element  3\n",
      "2nd element  two\n",
      "1st element  1\n"
     ]
    }
   ],
   "source": [
    "print(\"5th element \",mylist[-1])\n",
    "print(\"4th element \",mylist[-2])\n",
    "print(\"3rd element \",mylist[-3])\n",
    "print(\"2nd element \",mylist[-4])\n",
    "print(\"1st element \",mylist[-5])\n"
   ]
  },
  {
   "cell_type": "code",
   "execution_count": 5,
   "metadata": {
    "colab": {
     "base_uri": "https://localhost:8080/"
    },
    "executionInfo": {
     "elapsed": 647,
     "status": "ok",
     "timestamp": 1630389942500,
     "user": {
      "displayName": "ANANYA KUMAR",
      "photoUrl": "https://lh3.googleusercontent.com/a-/AOh14Gi2232rO3cnrc8uJkCqoLZxX-zoes3gB_cnoO_pDA=s64",
      "userId": "11752855501033589240"
     },
     "user_tz": -330
    },
    "id": "08qjkquKz2w0",
    "outputId": "dac0cfd7-a0d4-4839-bd7d-9c82cc0d1deb"
   },
   "outputs": [
    {
     "data": {
      "text/plain": [
       "5"
      ]
     },
     "execution_count": 5,
     "metadata": {},
     "output_type": "execute_result"
    }
   ],
   "source": [
    "len(mylist)"
   ]
  },
  {
   "cell_type": "code",
   "execution_count": 6,
   "metadata": {
    "executionInfo": {
     "elapsed": 10,
     "status": "ok",
     "timestamp": 1630389946049,
     "user": {
      "displayName": "ANANYA KUMAR",
      "photoUrl": "https://lh3.googleusercontent.com/a-/AOh14Gi2232rO3cnrc8uJkCqoLZxX-zoes3gB_cnoO_pDA=s64",
      "userId": "11752855501033589240"
     },
     "user_tz": -330
    },
    "id": "RAHWl_TBz2w1"
   },
   "outputs": [],
   "source": [
    "mytuple = (1,\"two\",3,(\"four\",\"five\"),{\"six\":6,\"seven\":7})"
   ]
  },
  {
   "cell_type": "code",
   "execution_count": 7,
   "metadata": {
    "colab": {
     "base_uri": "https://localhost:8080/"
    },
    "executionInfo": {
     "elapsed": 518,
     "status": "ok",
     "timestamp": 1630389950193,
     "user": {
      "displayName": "ANANYA KUMAR",
      "photoUrl": "https://lh3.googleusercontent.com/a-/AOh14Gi2232rO3cnrc8uJkCqoLZxX-zoes3gB_cnoO_pDA=s64",
      "userId": "11752855501033589240"
     },
     "user_tz": -330
    },
    "id": "_XMXzOC4z2w4",
    "outputId": "c9eb1956-3aba-4e1c-f3dc-ed535c45bf3c"
   },
   "outputs": [
    {
     "data": {
      "text/plain": [
       "tuple"
      ]
     },
     "execution_count": 7,
     "metadata": {},
     "output_type": "execute_result"
    }
   ],
   "source": [
    "type(mytuple)"
   ]
  },
  {
   "cell_type": "code",
   "execution_count": 8,
   "metadata": {
    "colab": {
     "base_uri": "https://localhost:8080/"
    },
    "executionInfo": {
     "elapsed": 608,
     "status": "ok",
     "timestamp": 1630389954992,
     "user": {
      "displayName": "ANANYA KUMAR",
      "photoUrl": "https://lh3.googleusercontent.com/a-/AOh14Gi2232rO3cnrc8uJkCqoLZxX-zoes3gB_cnoO_pDA=s64",
      "userId": "11752855501033589240"
     },
     "user_tz": -330
    },
    "id": "I4cL_tm_z2w7",
    "outputId": "f9c9528c-fef9-44e3-8f6e-530d6a443b1e"
   },
   "outputs": [
    {
     "name": "stdout",
     "output_type": "stream",
     "text": [
      "1st element  1\n",
      "2nd element  two\n",
      "3rd element  3\n",
      "4th element  ('four', 'five')\n",
      "5th element  {'six': 6, 'seven': 7}\n"
     ]
    }
   ],
   "source": [
    "print(\"1st element \",mytuple[0])\n",
    "print(\"2nd element \",mytuple[1])\n",
    "print(\"3rd element \",mytuple[2])\n",
    "print(\"4th element \",mytuple[3])\n",
    "print(\"5th element \",mytuple[4])"
   ]
  },
  {
   "cell_type": "code",
   "execution_count": 9,
   "metadata": {
    "colab": {
     "base_uri": "https://localhost:8080/"
    },
    "executionInfo": {
     "elapsed": 606,
     "status": "ok",
     "timestamp": 1630389964903,
     "user": {
      "displayName": "ANANYA KUMAR",
      "photoUrl": "https://lh3.googleusercontent.com/a-/AOh14Gi2232rO3cnrc8uJkCqoLZxX-zoes3gB_cnoO_pDA=s64",
      "userId": "11752855501033589240"
     },
     "user_tz": -330
    },
    "id": "96HDhqmDz2w-",
    "outputId": "51904fe9-2dfc-45ce-c4fc-85fb60e6cda6"
   },
   "outputs": [
    {
     "name": "stdout",
     "output_type": "stream",
     "text": [
      "5th element  {'six': 6, 'seven': 7}\n",
      "4th element  ('four', 'five')\n",
      "3rd element  3\n",
      "2nd element  two\n",
      "1st element  1\n"
     ]
    }
   ],
   "source": [
    "print(\"5th element \",mytuple[-1])\n",
    "print(\"4th element \",mytuple[-2])\n",
    "print(\"3rd element \",mytuple[-3])\n",
    "print(\"2nd element \",mytuple[-4])\n",
    "print(\"1st element \",mytuple[-5])"
   ]
  },
  {
   "cell_type": "code",
   "execution_count": 10,
   "metadata": {
    "colab": {
     "base_uri": "https://localhost:8080/"
    },
    "executionInfo": {
     "elapsed": 644,
     "status": "ok",
     "timestamp": 1630389970336,
     "user": {
      "displayName": "ANANYA KUMAR",
      "photoUrl": "https://lh3.googleusercontent.com/a-/AOh14Gi2232rO3cnrc8uJkCqoLZxX-zoes3gB_cnoO_pDA=s64",
      "userId": "11752855501033589240"
     },
     "user_tz": -330
    },
    "id": "VsjBvzkmz2xB",
    "outputId": "55526e97-5533-4cd6-a491-82cf0a1917f0"
   },
   "outputs": [
    {
     "data": {
      "text/plain": [
       "5"
      ]
     },
     "execution_count": 10,
     "metadata": {},
     "output_type": "execute_result"
    }
   ],
   "source": [
    "len(mytuple)"
   ]
  },
  {
   "cell_type": "code",
   "execution_count": 11,
   "metadata": {
    "executionInfo": {
     "elapsed": 350,
     "status": "ok",
     "timestamp": 1630389976861,
     "user": {
      "displayName": "ANANYA KUMAR",
      "photoUrl": "https://lh3.googleusercontent.com/a-/AOh14Gi2232rO3cnrc8uJkCqoLZxX-zoes3gB_cnoO_pDA=s64",
      "userId": "11752855501033589240"
     },
     "user_tz": -330
    },
    "id": "xB2Vkjzoz2xD"
   },
   "outputs": [],
   "source": [
    "myset = {1,\"two\",3,(\"four\",\"five\"),\"two\",1}"
   ]
  },
  {
   "cell_type": "code",
   "execution_count": 12,
   "metadata": {
    "colab": {
     "base_uri": "https://localhost:8080/"
    },
    "executionInfo": {
     "elapsed": 390,
     "status": "ok",
     "timestamp": 1630389981038,
     "user": {
      "displayName": "ANANYA KUMAR",
      "photoUrl": "https://lh3.googleusercontent.com/a-/AOh14Gi2232rO3cnrc8uJkCqoLZxX-zoes3gB_cnoO_pDA=s64",
      "userId": "11752855501033589240"
     },
     "user_tz": -330
    },
    "id": "FrYx7JKWz2xD",
    "outputId": "138cc9be-ee6a-401e-dc8e-dc848a9ae854"
   },
   "outputs": [
    {
     "data": {
      "text/plain": [
       "set"
      ]
     },
     "execution_count": 12,
     "metadata": {},
     "output_type": "execute_result"
    }
   ],
   "source": [
    "type(myset)"
   ]
  },
  {
   "cell_type": "code",
   "execution_count": 13,
   "metadata": {
    "colab": {
     "base_uri": "https://localhost:8080/"
    },
    "executionInfo": {
     "elapsed": 416,
     "status": "ok",
     "timestamp": 1630389986981,
     "user": {
      "displayName": "ANANYA KUMAR",
      "photoUrl": "https://lh3.googleusercontent.com/a-/AOh14Gi2232rO3cnrc8uJkCqoLZxX-zoes3gB_cnoO_pDA=s64",
      "userId": "11752855501033589240"
     },
     "user_tz": -330
    },
    "id": "hgV1dOyoz2xF",
    "outputId": "ff6fbf6e-87ce-48bf-bb7f-12e91fcfc8e2"
   },
   "outputs": [
    {
     "data": {
      "text/plain": [
       "4"
      ]
     },
     "execution_count": 13,
     "metadata": {},
     "output_type": "execute_result"
    }
   ],
   "source": [
    "len(myset)"
   ]
  },
  {
   "cell_type": "markdown",
   "metadata": {
    "id": "eSwG1HXsz2xG"
   },
   "source": [
    "#### Note above that though we add 6 elements to the set, since two of them are duplicates, they have not been taken into consideration"
   ]
  },
  {
   "cell_type": "code",
   "execution_count": 14,
   "metadata": {
    "colab": {
     "base_uri": "https://localhost:8080/"
    },
    "executionInfo": {
     "elapsed": 646,
     "status": "ok",
     "timestamp": 1630389998182,
     "user": {
      "displayName": "ANANYA KUMAR",
      "photoUrl": "https://lh3.googleusercontent.com/a-/AOh14Gi2232rO3cnrc8uJkCqoLZxX-zoes3gB_cnoO_pDA=s64",
      "userId": "11752855501033589240"
     },
     "user_tz": -330
    },
    "id": "wzwKoQFHz2xM",
    "outputId": "362241bf-1410-42e0-aa4d-67bc83d7e64c"
   },
   "outputs": [
    {
     "name": "stdout",
     "output_type": "stream",
     "text": [
      "1\n",
      "('four', 'five')\n",
      "3\n",
      "two\n"
     ]
    }
   ],
   "source": [
    "for el in myset:\n",
    "    print(el)"
   ]
  },
  {
   "cell_type": "code",
   "execution_count": 15,
   "metadata": {
    "executionInfo": {
     "elapsed": 649,
     "status": "ok",
     "timestamp": 1630390002340,
     "user": {
      "displayName": "ANANYA KUMAR",
      "photoUrl": "https://lh3.googleusercontent.com/a-/AOh14Gi2232rO3cnrc8uJkCqoLZxX-zoes3gB_cnoO_pDA=s64",
      "userId": "11752855501033589240"
     },
     "user_tz": -330
    },
    "id": "K8PYNPONz2xN"
   },
   "outputs": [],
   "source": [
    "mydict = {(1):\"one\",\"two\":2,3:\"three\"}"
   ]
  },
  {
   "cell_type": "code",
   "execution_count": 16,
   "metadata": {
    "colab": {
     "base_uri": "https://localhost:8080/"
    },
    "executionInfo": {
     "elapsed": 358,
     "status": "ok",
     "timestamp": 1630390007369,
     "user": {
      "displayName": "ANANYA KUMAR",
      "photoUrl": "https://lh3.googleusercontent.com/a-/AOh14Gi2232rO3cnrc8uJkCqoLZxX-zoes3gB_cnoO_pDA=s64",
      "userId": "11752855501033589240"
     },
     "user_tz": -330
    },
    "id": "-TG9sb2Ez2xO",
    "outputId": "6036215b-8958-420a-88b7-3b567977d0d2"
   },
   "outputs": [
    {
     "data": {
      "text/plain": [
       "dict"
      ]
     },
     "execution_count": 16,
     "metadata": {},
     "output_type": "execute_result"
    }
   ],
   "source": [
    "type(mydict)"
   ]
  },
  {
   "cell_type": "code",
   "execution_count": 17,
   "metadata": {
    "colab": {
     "base_uri": "https://localhost:8080/",
     "height": 35
    },
    "executionInfo": {
     "elapsed": 21,
     "status": "ok",
     "timestamp": 1630390009870,
     "user": {
      "displayName": "ANANYA KUMAR",
      "photoUrl": "https://lh3.googleusercontent.com/a-/AOh14Gi2232rO3cnrc8uJkCqoLZxX-zoes3gB_cnoO_pDA=s64",
      "userId": "11752855501033589240"
     },
     "user_tz": -330
    },
    "id": "NnuiP28xz2xP",
    "outputId": "f828c203-2c56-48ed-f91c-bb9a29afbca8"
   },
   "outputs": [
    {
     "data": {
      "application/vnd.google.colaboratory.intrinsic+json": {
       "type": "string"
      },
      "text/plain": [
       "'one'"
      ]
     },
     "execution_count": 17,
     "metadata": {},
     "output_type": "execute_result"
    }
   ],
   "source": [
    "mydict.get((1))"
   ]
  },
  {
   "cell_type": "code",
   "execution_count": 18,
   "metadata": {
    "colab": {
     "base_uri": "https://localhost:8080/"
    },
    "executionInfo": {
     "elapsed": 381,
     "status": "ok",
     "timestamp": 1630390013212,
     "user": {
      "displayName": "ANANYA KUMAR",
      "photoUrl": "https://lh3.googleusercontent.com/a-/AOh14Gi2232rO3cnrc8uJkCqoLZxX-zoes3gB_cnoO_pDA=s64",
      "userId": "11752855501033589240"
     },
     "user_tz": -330
    },
    "id": "JVuz9CVxz2xQ",
    "outputId": "e795acb3-4f2b-4cf5-99e8-ce6f30e5c5e2"
   },
   "outputs": [
    {
     "data": {
      "text/plain": [
       "2"
      ]
     },
     "execution_count": 18,
     "metadata": {},
     "output_type": "execute_result"
    }
   ],
   "source": [
    "mydict.get(\"two\")"
   ]
  },
  {
   "cell_type": "code",
   "execution_count": 19,
   "metadata": {
    "colab": {
     "base_uri": "https://localhost:8080/",
     "height": 35
    },
    "executionInfo": {
     "elapsed": 12,
     "status": "ok",
     "timestamp": 1630390015788,
     "user": {
      "displayName": "ANANYA KUMAR",
      "photoUrl": "https://lh3.googleusercontent.com/a-/AOh14Gi2232rO3cnrc8uJkCqoLZxX-zoes3gB_cnoO_pDA=s64",
      "userId": "11752855501033589240"
     },
     "user_tz": -330
    },
    "id": "woPJ03JPz2xR",
    "outputId": "410b42c5-8a51-49c3-bcd5-786992ba192d"
   },
   "outputs": [
    {
     "data": {
      "application/vnd.google.colaboratory.intrinsic+json": {
       "type": "string"
      },
      "text/plain": [
       "'three'"
      ]
     },
     "execution_count": 19,
     "metadata": {},
     "output_type": "execute_result"
    }
   ],
   "source": [
    "mydict.get(3)"
   ]
  },
  {
   "cell_type": "code",
   "execution_count": null,
   "metadata": {
    "id": "wIVgOAvRz2xU"
   },
   "outputs": [],
   "source": []
  }
 ],
 "metadata": {
  "colab": {
   "collapsed_sections": [],
   "name": "Fundamental_Data_Structures.ipynb",
   "provenance": []
  },
  "kernelspec": {
   "display_name": "Python 3 (ipykernel)",
   "language": "python",
   "name": "python3"
  },
  "language_info": {
   "codemirror_mode": {
    "name": "ipython",
    "version": 3
   },
   "file_extension": ".py",
   "mimetype": "text/x-python",
   "name": "python",
   "nbconvert_exporter": "python",
   "pygments_lexer": "ipython3",
   "version": "3.9.12"
  }
 },
 "nbformat": 4,
 "nbformat_minor": 1
}
