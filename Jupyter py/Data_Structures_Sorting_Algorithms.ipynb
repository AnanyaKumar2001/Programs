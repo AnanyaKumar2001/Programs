{
 "cells": [
  {
   "cell_type": "markdown",
   "metadata": {
    "id": "SC6BcTLR97sH"
   },
   "source": [
    "Linked Lists"
   ]
  },
  {
   "cell_type": "code",
   "execution_count": 1,
   "metadata": {
    "colab": {
     "base_uri": "https://localhost:8080/"
    },
    "id": "TQcWUXNL96NH",
    "outputId": "d38df805-984a-46a8-c46f-cd3fe9aa1bb7"
   },
   "outputs": [
    {
     "data": {
      "text/plain": [
       "deque([])"
      ]
     },
     "execution_count": 1,
     "metadata": {},
     "output_type": "execute_result"
    }
   ],
   "source": [
    "# deque\n",
    "\n",
    "from collections import deque\n",
    "\n",
    "linked_list = deque()\n",
    "linked_list"
   ]
  },
  {
   "cell_type": "code",
   "execution_count": 2,
   "metadata": {
    "colab": {
     "base_uri": "https://localhost:8080/"
    },
    "id": "Hj33LfkM-0BL",
    "outputId": "5318f60d-1537-4972-9909-d9068d11a9fb"
   },
   "outputs": [
    {
     "data": {
      "text/plain": [
       "deque([0])"
      ]
     },
     "execution_count": 2,
     "metadata": {},
     "output_type": "execute_result"
    }
   ],
   "source": [
    "linked_list.append(0)\n",
    "linked_list"
   ]
  },
  {
   "cell_type": "code",
   "execution_count": 3,
   "metadata": {
    "colab": {
     "base_uri": "https://localhost:8080/"
    },
    "id": "ymU0aWXu_S6Z",
    "outputId": "9f7c8002-8329-43c6-ba96-392dbd175051"
   },
   "outputs": [
    {
     "data": {
      "text/plain": [
       "deque([1, 0])"
      ]
     },
     "execution_count": 3,
     "metadata": {},
     "output_type": "execute_result"
    }
   ],
   "source": [
    "linked_list.appendleft(1)\n",
    "linked_list"
   ]
  },
  {
   "cell_type": "code",
   "execution_count": 4,
   "metadata": {
    "colab": {
     "base_uri": "https://localhost:8080/"
    },
    "id": "XJY1i6He_b_j",
    "outputId": "6600d4a8-d501-4c3d-b5c6-0a8a3f493c76"
   },
   "outputs": [
    {
     "data": {
      "text/plain": [
       "deque([1, 0, 2])"
      ]
     },
     "execution_count": 4,
     "metadata": {},
     "output_type": "execute_result"
    }
   ],
   "source": [
    "linked_list.append(2)\n",
    "linked_list"
   ]
  },
  {
   "cell_type": "code",
   "execution_count": 5,
   "metadata": {
    "colab": {
     "base_uri": "https://localhost:8080/"
    },
    "id": "rhEBOEYu_jOu",
    "outputId": "268c2124-5667-4cb2-fa96-a491ad93c819"
   },
   "outputs": [
    {
     "data": {
      "text/plain": [
       "deque([0, 2])"
      ]
     },
     "execution_count": 5,
     "metadata": {},
     "output_type": "execute_result"
    }
   ],
   "source": [
    "linked_list.popleft()\n",
    "linked_list"
   ]
  },
  {
   "cell_type": "code",
   "execution_count": 6,
   "metadata": {
    "id": "IvlkuEPB_qGX"
   },
   "outputs": [],
   "source": [
    "# queue\n",
    "\n",
    "queue = deque()"
   ]
  },
  {
   "cell_type": "code",
   "execution_count": 7,
   "metadata": {
    "colab": {
     "base_uri": "https://localhost:8080/"
    },
    "id": "ReD050A0_xr4",
    "outputId": "c59caa96-d417-486b-c665-8795acae80d3"
   },
   "outputs": [
    {
     "name": "stdout",
     "output_type": "stream",
     "text": [
      "deque([0])\n",
      "deque([0, 1])\n",
      "deque([0, 1, 2])\n",
      "deque([0, 1, 2, 3])\n",
      "deque([0, 1, 2, 3, 4])\n"
     ]
    }
   ],
   "source": [
    "for i in range(0,5):\n",
    "  queue.append(i)\n",
    "  print(queue)"
   ]
  },
  {
   "cell_type": "code",
   "execution_count": 8,
   "metadata": {
    "colab": {
     "base_uri": "https://localhost:8080/"
    },
    "id": "V8WyPcec_8VM",
    "outputId": "8f10dd41-fdcd-4c60-d9a9-784f9b110c44"
   },
   "outputs": [
    {
     "name": "stdout",
     "output_type": "stream",
     "text": [
      "deque([1, 2, 3, 4])\n",
      "deque([2, 3, 4])\n",
      "deque([3, 4])\n",
      "deque([4])\n",
      "deque([])\n"
     ]
    }
   ],
   "source": [
    "for i in range(len(queue)):\n",
    "  queue.popleft()\n",
    "  print(queue)"
   ]
  },
  {
   "cell_type": "code",
   "execution_count": 9,
   "metadata": {
    "id": "5-uR8HPYARGP"
   },
   "outputs": [],
   "source": [
    "# stack\n",
    "\n",
    "stack = deque()"
   ]
  },
  {
   "cell_type": "code",
   "execution_count": 10,
   "metadata": {
    "colab": {
     "base_uri": "https://localhost:8080/"
    },
    "id": "edN7G3Y_AdW6",
    "outputId": "e68e9cca-d7a6-4644-8158-cd33fffd3deb"
   },
   "outputs": [
    {
     "name": "stdout",
     "output_type": "stream",
     "text": [
      "deque([0])\n",
      "deque([1, 0])\n",
      "deque([2, 1, 0])\n",
      "deque([3, 2, 1, 0])\n",
      "deque([4, 3, 2, 1, 0])\n"
     ]
    }
   ],
   "source": [
    "for i in range(0,5):\n",
    "  stack.appendleft(i)\n",
    "  print(stack)"
   ]
  },
  {
   "cell_type": "code",
   "execution_count": 11,
   "metadata": {
    "colab": {
     "base_uri": "https://localhost:8080/"
    },
    "id": "qJdZmlIMAoeN",
    "outputId": "1d66b5e0-c465-4c23-9cf8-66a49815a7f1"
   },
   "outputs": [
    {
     "name": "stdout",
     "output_type": "stream",
     "text": [
      "deque([3, 2, 1, 0])\n",
      "deque([2, 1, 0])\n",
      "deque([1, 0])\n",
      "deque([0])\n",
      "deque([])\n"
     ]
    }
   ],
   "source": [
    "for i in range(len(stack)):\n",
    "  stack.popleft()\n",
    "  print(stack)"
   ]
  },
  {
   "cell_type": "code",
   "execution_count": 12,
   "metadata": {
    "id": "plluZ3wFAzaq"
   },
   "outputs": [],
   "source": [
    "# custom Linked List\n",
    "\n",
    "class Node:\n",
    "  def __init__(self, data=None):\n",
    "    self.data = data\n",
    "    self.next = None\n",
    "\n",
    "class Linked:\n",
    "  def __init__(self):\n",
    "    self.head = None\n",
    "  def show(self):\n",
    "    node = self.head\n",
    "    while node is not None:\n",
    "      print(node.data)\n",
    "      node = node.next\n",
    "  def add(self, new):\n",
    "    new_node = Node(new)\n",
    "    new_node.next = self.head\n",
    "    self.head = new_node"
   ]
  },
  {
   "cell_type": "code",
   "execution_count": 13,
   "metadata": {
    "colab": {
     "base_uri": "https://localhost:8080/"
    },
    "id": "1Xrd8bdeBigk",
    "outputId": "1f768367-306d-4ac2-f350-37e72c8c1566"
   },
   "outputs": [
    {
     "name": "stdout",
     "output_type": "stream",
     "text": [
      "Ananya\n"
     ]
    }
   ],
   "source": [
    "link = Linked()\n",
    "element = Node(\"Ananya\")\n",
    "link.head = element\n",
    "link.show()"
   ]
  },
  {
   "cell_type": "code",
   "execution_count": 14,
   "metadata": {
    "colab": {
     "base_uri": "https://localhost:8080/"
    },
    "id": "UCUa_OZzB_K8",
    "outputId": "7d04a635-8805-4bc9-afc3-54ea786f9fde"
   },
   "outputs": [
    {
     "name": "stdout",
     "output_type": "stream",
     "text": [
      "Ananya\n",
      "Kumar\n"
     ]
    }
   ],
   "source": [
    "element2 = Node(\"Kumar\")\n",
    "link.head.next = element2\n",
    "link.show()"
   ]
  },
  {
   "cell_type": "code",
   "execution_count": 15,
   "metadata": {
    "colab": {
     "base_uri": "https://localhost:8080/"
    },
    "id": "fmfrMxiXCNAv",
    "outputId": "e521eda6-018e-4fa1-98f5-0a93a80fbd43"
   },
   "outputs": [
    {
     "name": "stdout",
     "output_type": "stream",
     "text": [
      "Mamillapalli\n",
      "Ananya\n",
      "Kumar\n"
     ]
    }
   ],
   "source": [
    "link.add(\"Mamillapalli\")\n",
    "link.show()"
   ]
  },
  {
   "cell_type": "markdown",
   "metadata": {
    "id": "9VzlKifN9Crd"
   },
   "source": [
    "Tree Traversals"
   ]
  },
  {
   "cell_type": "code",
   "execution_count": 16,
   "metadata": {
    "id": "sfA7rDO9pE8z"
   },
   "outputs": [],
   "source": [
    "# creating a node class\n",
    "class Node:\n",
    "  def __init__(self,val):\n",
    "    self.childleft = None\n",
    "    self.childright = None\n",
    "    self.nodedata = val\n",
    "\n",
    "# creating an instance of the node class\n",
    "root = Node(1)\n",
    "root.childleft = Node(2)\n",
    "root.childright = Node(3)\n",
    "root.childleft.childleft = Node(4)\n",
    "root.childleft.childright = Node(5)"
   ]
  },
  {
   "cell_type": "code",
   "execution_count": 17,
   "metadata": {
    "colab": {
     "base_uri": "https://localhost:8080/"
    },
    "id": "Rco-JqrArZgG",
    "outputId": "d0252fc5-483a-4aaa-af7e-7e2e262d42cc"
   },
   "outputs": [
    {
     "name": "stdout",
     "output_type": "stream",
     "text": [
      "4\n",
      "2\n",
      "5\n",
      "1\n",
      "3\n"
     ]
    }
   ],
   "source": [
    "def InOrd(root):\n",
    "  if root:\n",
    "    InOrd(root.childleft)\n",
    "    print(root.nodedata)\n",
    "    InOrd(root.childright)\n",
    "InOrd(root)"
   ]
  },
  {
   "cell_type": "code",
   "execution_count": 18,
   "metadata": {
    "colab": {
     "base_uri": "https://localhost:8080/"
    },
    "id": "fOUIH2musGwu",
    "outputId": "a8955c33-19ed-40d9-c215-8cd3b600b44a"
   },
   "outputs": [
    {
     "name": "stdout",
     "output_type": "stream",
     "text": [
      "1\n",
      "2\n",
      "4\n",
      "5\n",
      "3\n"
     ]
    }
   ],
   "source": [
    "def PreOrd(root):\n",
    "  if root:\n",
    "    print(root.nodedata)\n",
    "    PreOrd(root.childleft)\n",
    "    PreOrd(root.childright)\n",
    "PreOrd(root)"
   ]
  },
  {
   "cell_type": "code",
   "execution_count": 19,
   "metadata": {
    "colab": {
     "base_uri": "https://localhost:8080/"
    },
    "id": "WL-sk1kCsUlv",
    "outputId": "a6ee681c-fe90-4e22-e62b-169a80563f53"
   },
   "outputs": [
    {
     "name": "stdout",
     "output_type": "stream",
     "text": [
      "4\n",
      "5\n",
      "2\n",
      "3\n",
      "1\n"
     ]
    }
   ],
   "source": [
    "def PostOrd(root):\n",
    "  if root:\n",
    "    PostOrd(root.childleft)\n",
    "    PostOrd(root.childright)\n",
    "    print(root.nodedata)\n",
    "PostOrd(root)"
   ]
  },
  {
   "cell_type": "markdown",
   "metadata": {
    "id": "3KKccUBy9UeG"
   },
   "source": [
    "Sortings"
   ]
  },
  {
   "cell_type": "code",
   "execution_count": 22,
   "metadata": {
    "colab": {
     "base_uri": "https://localhost:8080/"
    },
    "id": "x5uEPg4Cswb_",
    "outputId": "b362f515-9565-4681-8cfa-842589f8bfcb"
   },
   "outputs": [
    {
     "name": "stdout",
     "output_type": "stream",
     "text": [
      "67 56 32 18 98 26\n",
      "[18, 26, 32, 56, 67, 98]\n"
     ]
    }
   ],
   "source": [
    "def msort(mylist, left, right):\n",
    "  if right - left > 1:\n",
    "    middle = (left+right)//2\n",
    "    msort(mylist, left, middle)\n",
    "    msort(mylist, middle, right)\n",
    "    mlist(mylist, left, middle, right)\n",
    "\n",
    "def mlist(mylist, left, middle, right):\n",
    "  leftlist = mylist[left:middle]\n",
    "  rightlist = mylist[middle:right]\n",
    "  k = left\n",
    "  i = 0\n",
    "  j = 0\n",
    "  while(left+i < middle and middle+j < right):\n",
    "    if(leftlist[i] <= rightlist[j]):\n",
    "      mylist[k] = leftlist[i]\n",
    "      i = i+1\n",
    "    else:\n",
    "      mylist[k] = rightlist[j]\n",
    "      j = j+1\n",
    "    k = k+1\n",
    "  if left+i < middle:\n",
    "    while k<right:\n",
    "      mylist[k] = leftlist[i]\n",
    "      i = i+1\n",
    "      k = k+1\n",
    "  else:\n",
    "    while k<right:\n",
    "      mylist[k] = rightlist[j]\n",
    "      j = j+1\n",
    "      k = k+1\n",
    "  \n",
    "\n",
    "mylist = input().split()\n",
    "mylist = [int(x) for x in mylist]\n",
    "msort(mylist, 0, len(mylist))\n",
    "print(mylist)"
   ]
  },
  {
   "cell_type": "code",
   "execution_count": 23,
   "metadata": {
    "colab": {
     "base_uri": "https://localhost:8080/"
    },
    "id": "qtZEt4g0voG6",
    "outputId": "983a70a9-16cc-4fc9-91bd-4693327e3ba3"
   },
   "outputs": [
    {
     "name": "stdout",
     "output_type": "stream",
     "text": [
      "67 56 32 18 98 26\n",
      "[18, 26, 32, 56, 67, 98]\n"
     ]
    }
   ],
   "source": [
    "def bubblesort(a):\n",
    "  n = len(a) - 1\n",
    "  for i in range(n):\n",
    "    for j in range(n-i):\n",
    "      if a[j]>a[j+1]:\n",
    "        a[j],a[j+1] = a[j+1],a[j]\n",
    "  return a\n",
    "\n",
    "mylist = input().split()\n",
    "mylist = [int(x) for x in mylist]\n",
    "bubblesort(mylist)\n",
    "print(mylist)"
   ]
  },
  {
   "cell_type": "code",
   "execution_count": 24,
   "metadata": {
    "colab": {
     "base_uri": "https://localhost:8080/"
    },
    "id": "u-CJfhVmwzTY",
    "outputId": "ef5d89fe-5740-4297-dd95-aeaf4dd4c06a"
   },
   "outputs": [
    {
     "name": "stdout",
     "output_type": "stream",
     "text": [
      "67 56 32 18 98 26\n",
      "[18, 26, 32, 56, 67, 98]\n"
     ]
    }
   ],
   "source": [
    "def insertionsort(a):\n",
    "  for i in range(1, len(a)):\n",
    "    k = a[i]\n",
    "    j = i-1\n",
    "    while j>=0 and k<a[j]: # condition for ascending order, if we want descending order put ( j>= and k>a[j] )\n",
    "      a[j+1]=a[j]\n",
    "      j -= 1\n",
    "    a[j+1]=k\n",
    "  return a \n",
    "\n",
    "mylist = input().split()\n",
    "mylist = [int(x) for x in mylist]\n",
    "insertionsort(mylist)\n",
    "print(mylist)"
   ]
  },
  {
   "cell_type": "code",
   "execution_count": 25,
   "metadata": {
    "colab": {
     "base_uri": "https://localhost:8080/"
    },
    "id": "1dD_Tbqo0BQU",
    "outputId": "75ca17a7-f1c2-458e-8cb3-f9b0ff41d609"
   },
   "outputs": [
    {
     "name": "stdout",
     "output_type": "stream",
     "text": [
      "67 56 32 18 98 26\n",
      "[18, 26, 32, 56, 67, 98]\n"
     ]
    }
   ],
   "source": [
    "def selectionsort(a, n):\n",
    "  for i in range(n):\n",
    "    min = i\n",
    "    for j in range(i+1, n):\n",
    "      if a[j] < a[min]:\n",
    "        min = j\n",
    "    a[i],a[min] = a[min], a[i]\n",
    "  return a\n",
    "\n",
    "mylist = input().split()\n",
    "mylist = [int(x) for x in mylist]\n",
    "n = len(mylist)\n",
    "selectionsort(mylist, n)\n",
    "print(mylist)"
   ]
  },
  {
   "cell_type": "code",
   "execution_count": 26,
   "metadata": {
    "colab": {
     "base_uri": "https://localhost:8080/"
    },
    "id": "DtKJaaYV1Fc5",
    "outputId": "c170ce5a-67c6-474c-c736-be4d0235e6e2"
   },
   "outputs": [
    {
     "name": "stdout",
     "output_type": "stream",
     "text": [
      "67 56 32 18 98 26\n",
      "[18, 26, 32, 56, 67, 98]\n"
     ]
    }
   ],
   "source": [
    "def shellsort(a, n):\n",
    "  g = n//2\n",
    "  while g>0:\n",
    "    for i in range(g,n):\n",
    "      j = a[i]\n",
    "      k = i\n",
    "      while k>=g and a[k-g]>j:\n",
    "        a[k] = a[k-g]\n",
    "        k -= g\n",
    "      a[k]=j\n",
    "    g //= 2\n",
    "  return a\n",
    "\n",
    "mylist = input().split()\n",
    "mylist = [int(x) for x in mylist]\n",
    "n = len(mylist)\n",
    "shellsort(mylist, n)\n",
    "print(mylist)"
   ]
  }
 ],
 "metadata": {
  "colab": {
   "name": "Data Structures & Sorting Algorithms.ipynb",
   "provenance": []
  },
  "kernelspec": {
   "display_name": "Python 3 (ipykernel)",
   "language": "python",
   "name": "python3"
  },
  "language_info": {
   "codemirror_mode": {
    "name": "ipython",
    "version": 3
   },
   "file_extension": ".py",
   "mimetype": "text/x-python",
   "name": "python",
   "nbconvert_exporter": "python",
   "pygments_lexer": "ipython3",
   "version": "3.9.12"
  }
 },
 "nbformat": 4,
 "nbformat_minor": 1
}
